{
 "cells": [
  {
   "cell_type": "code",
   "execution_count": 1,
   "id": "25cb3db2-aca5-425e-b41c-5fe379b608e3",
   "metadata": {},
   "outputs": [
    {
     "name": "stdin",
     "output_type": "stream",
     "text": [
      "Enter a starting number:  3\n",
      "Enter a last number:  3\n"
     ]
    }
   ],
   "source": [
    "starting_number = input(\"Enter a starting number: \")\n",
    "ending_number = input(\"Enter a last number: \")\n",
    "count = 0\n",
    "if starting_number.isdigit() and ending_number.isdigit():\n",
    "    for i in range(int(starting_number),int(ending_number)+1):\n",
    "        count += i\n",
    "    print(f\"The sum of {starting_number} to {ending_number} is: {count}\")\n",
    "else:\n",
    "    print("
   ]
  },
  {
   "cell_type": "code",
   "execution_count": null,
   "id": "fbf1b49e-81a0-4785-9bfc-6faf91505f2c",
   "metadata": {},
   "outputs": [],
   "source": []
  }
 ],
 "metadata": {
  "kernelspec": {
   "display_name": "Python 3 (ipykernel)",
   "language": "python",
   "name": "python3"
  },
  "language_info": {
   "codemirror_mode": {
    "name": "ipython",
    "version": 3
   },
   "file_extension": ".py",
   "mimetype": "text/x-python",
   "name": "python",
   "nbconvert_exporter": "python",
   "pygments_lexer": "ipython3",
   "version": "3.12.7"
  }
 },
 "nbformat": 4,
 "nbformat_minor": 5
}
