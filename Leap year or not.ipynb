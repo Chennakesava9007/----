{
 "cells": [
  {
   "cell_type": "code",
   "execution_count": null,
   "id": "b23530cc-6dec-496f-bc15-216daa4e524a",
   "metadata": {},
   "outputs": [],
   "source": [
    "user_input= input(\"Enter a Year: \")\n",
    "if user_input.isdigit():\n",
    "    if int(user_input)%4 ==0 and int(user_input)%100 !=0 or int(user_input)%400 == 0:\n",
    "        print(f\"{user_input} is a leap year\")\n",
    "    else:\n",
    "        print(f\"{user_input} is not a leap year\")\n",
    "else:\n",
    "    print(\"Invalid Year! Please a Enter a valid year \")"
   ]
  }
 ],
 "metadata": {
  "kernelspec": {
   "display_name": "Python 3 (ipykernel)",
   "language": "python",
   "name": "python3"
  },
  "language_info": {
   "codemirror_mode": {
    "name": "ipython",
    "version": 3
   },
   "file_extension": ".py",
   "mimetype": "text/x-python",
   "name": "python",
   "nbconvert_exporter": "python",
   "pygments_lexer": "ipython3",
   "version": "3.12.7"
  }
 },
 "nbformat": 4,
 "nbformat_minor": 5
}
