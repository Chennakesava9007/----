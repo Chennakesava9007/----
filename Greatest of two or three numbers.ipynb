{
 "cells": [
  {
   "cell_type": "code",
   "execution_count": 6,
   "id": "4f6b8830-617d-451d-b98a-ad2bad9c896a",
   "metadata": {},
   "outputs": [
    {
     "name": "stdin",
     "output_type": "stream",
     "text": [
      "Enter 1st number:  39\n",
      "Enter 2nd number:  71\n"
     ]
    },
    {
     "name": "stdout",
     "output_type": "stream",
     "text": [
      "71 is greatest of entered two number\n"
     ]
    }
   ],
   "source": [
    "# Greatest of two numbers\n",
    "user_input1 = input(\"Enter 1st number: \")\n",
    "user_input2 = input(\"Enter 2nd number: \")\n",
    "if user_input1.isdigit() and user_input2.isdigit():\n",
    "    if user_input1 < user_input2:\n",
    "        print(f\"{user_input2} is greatest of entered two number\")\n",
    "    elif user_input1 > user_input2:\n",
    "        print(f\"{user_input1} is greatest of entered two number\")\n",
    "    else:\n",
    "        print(f\"You entered same 1st and 2nd number same.So, {user_input1} is greatest number\")\n",
    "else:\n",
    "    print(\"Invalid number! Please a Enter a valid number\")"
   ]
  },
  {
   "cell_type": "code",
   "execution_count": 16,
   "id": "f4a9ca3f-b365-45ec-9a52-08431e6cb207",
   "metadata": {},
   "outputs": [
    {
     "name": "stdin",
     "output_type": "stream",
     "text": [
      "Enter 1st number:  33\n",
      "Enter 2nd number:  186\n",
      "Enter 3nd number:  97\n"
     ]
    },
    {
     "name": "stdout",
     "output_type": "stream",
     "text": [
      "186 is greatest of entered three number\n"
     ]
    }
   ],
   "source": [
    "user_input1 = input(\"Enter 1st number: \")\n",
    "user_input2 = input(\"Enter 2nd number: \")\n",
    "user_input3 = input(\"Enter 3nd number: \")\n",
    "if user_input1.isdigit() and user_input2.isdigit() and user_input2.isdigit():\n",
    "    minimum_number = max(int(user_input1),int(user_input2),int(user_input3))\n",
    "    print(f\"{minimum_number} is greatest of entered three number\")\n",
    "else:\n",
    "    print(\"Invalid number! Please a Enter a valid number\")"
   ]
  }
 ],
 "metadata": {
  "kernelspec": {
   "display_name": "Python 3 (ipykernel)",
   "language": "python",
   "name": "python3"
  },
  "language_info": {
   "codemirror_mode": {
    "name": "ipython",
    "version": 3
   },
   "file_extension": ".py",
   "mimetype": "text/x-python",
   "name": "python",
   "nbconvert_exporter": "python",
   "pygments_lexer": "ipython3",
   "version": "3.12.7"
  }
 },
 "nbformat": 4,
 "nbformat_minor": 5
}
