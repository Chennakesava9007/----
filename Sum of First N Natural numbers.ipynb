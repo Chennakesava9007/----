{
 "cells": [
  {
   "cell_type": "code",
   "execution_count": 15,
   "id": "e2070b35-b556-4d2f-b960-869a11551f94",
   "metadata": {},
   "outputs": [
    {
     "name": "stdin",
     "output_type": "stream",
     "text": [
      "Enter a Natural number:  4\n"
     ]
    },
    {
     "name": "stdout",
     "output_type": "stream",
     "text": [
      "Where first 4 numbers : [1, 2, 3, 4]\n",
      "The sum of first 4 natural number is: 10\n"
     ]
    }
   ],
   "source": [
    "user_input = input(\"Enter a Natural number: \")\n",
    "count = 0\n",
    "listy = []\n",
    "if user_input.isdigit():\n",
    "    for i in range(1,int(user_input)+1):\n",
    "        count += i\n",
    "        listy.append(i)\n",
    "    print(f\"Where first {user_input} numbers : {listy}\")\n",
    "    print(f\"The sum of first {user_input} natural number is: {count}\")\n",
    "else:\n",
    "    print(\"Please Enter a valid natural number!\")"
   ]
  }
 ],
 "metadata": {
  "kernelspec": {
   "display_name": "Python 3 (ipykernel)",
   "language": "python",
   "name": "python3"
  },
  "language_info": {
   "codemirror_mode": {
    "name": "ipython",
    "version": 3
   },
   "file_extension": ".py",
   "mimetype": "text/x-python",
   "name": "python",
   "nbconvert_exporter": "python",
   "pygments_lexer": "ipython3",
   "version": "3.12.7"
  }
 },
 "nbformat": 4,
 "nbformat_minor": 5
}
