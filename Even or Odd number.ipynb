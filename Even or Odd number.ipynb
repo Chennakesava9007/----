{
 "cells": [
  {
   "cell_type": "code",
   "execution_count": 77,
   "id": "a082f875-ffbd-4c41-8852-8d8d291afab4",
   "metadata": {},
   "outputs": [
    {
     "name": "stdin",
     "output_type": "stream",
     "text": [
      "Enter a number:  4\n"
     ]
    },
    {
     "name": "stdout",
     "output_type": "stream",
     "text": [
      "4 is Even number\n"
     ]
    }
   ],
   "source": [
    "user_input = input(\"Enter a number: \")\n",
    "if user_input.isdigit():\n",
    "    if int(user_input)%2 == 0:\n",
    "        print(f\"{user_input} is Even number\")\n",
    "    else:\n",
    "        print(f\"{user_input} is odd number\")\n",
    "else:\n",
    "    print(f\"Please Enter a number. {user_input} is not a number\")"
   ]
  }
 ],
 "metadata": {
  "kernelspec": {
   "display_name": "Python 3 (ipykernel)",
   "language": "python",
   "name": "python3"
  },
  "language_info": {
   "codemirror_mode": {
    "name": "ipython",
    "version": 3
   },
   "file_extension": ".py",
   "mimetype": "text/x-python",
   "name": "python",
   "nbconvert_exporter": "python",
   "pygments_lexer": "ipython3",
   "version": "3.12.7"
  }
 },
 "nbformat": 4,
 "nbformat_minor": 5
}
