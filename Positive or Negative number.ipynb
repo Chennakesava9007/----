{
 "cells": [
  {
   "cell_type": "code",
   "execution_count": 1,
   "id": "94f6d530-96a9-4ecd-b304-ea0d2ad35f6c",
   "metadata": {},
   "outputs": [
    {
     "name": "stdin",
     "output_type": "stream",
     "text": [
      "Enter a number:  -1\n"
     ]
    },
    {
     "name": "stdout",
     "output_type": "stream",
     "text": [
      "ohh! -1 is Negative number\n"
     ]
    }
   ],
   "source": [
    "user_input = int(input(\"Enter a number: \"))\n",
    "if user_input >0:\n",
    "    print(f\"ohh! {user_input} is Positive number\")\n",
    "elif user_input <0:\n",
    "    print(f\"ohh! {user_input} is Negative number\")\n",
    "else:\n",
    "    print(\"ohh! The number is Zero\")\n",
    "# This code checks if the input number is positive, negative, or zero."
   ]
  },
  {
   "cell_type": "code",
   "execution_count": null,
   "id": "cea082c3-bf46-4814-88c1-c0686b1e9d42",
   "metadata": {},
   "outputs": [],
   "source": []
  }
 ],
 "metadata": {
  "kernelspec": {
   "display_name": "Python 3 (ipykernel)",
   "language": "python",
   "name": "python3"
  },
  "language_info": {
   "codemirror_mode": {
    "name": "ipython",
    "version": 3
   },
   "file_extension": ".py",
   "mimetype": "text/x-python",
   "name": "python",
   "nbconvert_exporter": "python",
   "pygments_lexer": "ipython3",
   "version": "3.12.7"
  }
 },
 "nbformat": 4,
 "nbformat_minor": 5
}
