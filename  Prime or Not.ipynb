{
 "cells": [
  {
   "cell_type": "code",
   "execution_count": 39,
   "id": "96fc570f-e659-4be7-8c46-a14f0c3614d6",
   "metadata": {},
   "outputs": [
    {
     "name": "stdin",
     "output_type": "stream",
     "text": [
      "Enter a number: 101\n"
     ]
    },
    {
     "name": "stdout",
     "output_type": "stream",
     "text": [
      "101 is prime number\n"
     ]
    }
   ],
   "source": [
    "#Check prime or not for One number only at a time\n",
    "user_input = input(\"Enter a number:\")\n",
    "num = int(user_input)\n",
    "if user_input.isdigit():\n",
    "    flag = 0\n",
    "    for i in range(2,num):\n",
    "        if int(num)%i == 0:\n",
    "            flag = 1\n",
    "            break\n",
    "    if flag == 1:\n",
    "        print(f\"{user_input} is not a prime number\")\n",
    "    elif flag == 0:\n",
    "        print(f\"{user_input} is prime number\")\n",
    "else:\n",
    "    print(\"Please, Enter a valid number\")"
   ]
  }
 ],
 "metadata": {
  "kernelspec": {
   "display_name": "Python 3 (ipykernel)",
   "language": "python",
   "name": "python3"
  },
  "language_info": {
   "codemirror_mode": {
    "name": "ipython",
    "version": 3
   },
   "file_extension": ".py",
   "mimetype": "text/x-python",
   "name": "python",
   "nbconvert_exporter": "python",
   "pygments_lexer": "ipython3",
   "version": "3.12.7"
  }
 },
 "nbformat": 4,
 "nbformat_minor": 5
}
